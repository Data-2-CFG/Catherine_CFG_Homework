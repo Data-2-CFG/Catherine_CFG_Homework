{
  "nbformat": 4,
  "nbformat_minor": 0,
  "metadata": {
    "colab": {
      "name": "Untitled2.ipynb",
      "provenance": []
    },
    "kernelspec": {
      "name": "python3",
      "display_name": "Python 3"
    },
    "language_info": {
      "name": "python"
    }
  },
  "cells": [
    {
      "cell_type": "code",
      "execution_count": null,
      "metadata": {
        "id": "mLeR6PNN1YD2"
      },
      "outputs": [],
      "source": [
        ""
      ]
    },
    {
      "cell_type": "markdown",
      "source": [
        "## THEORY QUESTIONS ASSIGNMEN"
      ],
      "metadata": {
        "id": "gRKVoGMz1aic"
      }
    },
    {
      "cell_type": "markdown",
      "source": [
        "1. What does “Data Cleansing” mean? What are the best ways to practice this?\n",
        "2. What is the difference between data profiling and data mining?\n",
        "3. Define Outlier with an example.\n",
        "4. What is “Collaborative Filtering”?\n",
        "5. What is “Time Series Analysis”?\n",
        "6. Explain the core steps of a Data Analysis project?\n",
        "7. What are the characteristics of a good data model?\n",
        "8. Explain and provide examples of univariate, bivariate, and multivariate analysis?\n",
        "9. What is a Linear Regression?\n",
        "10. In terms of modelling data, what do we mean by Over-fitting and Under-fitting?"
      ],
      "metadata": {
        "id": "om-Cj1QK1hVw"
      }
    },
    {
      "cell_type": "markdown",
      "source": [
        "What does “Data Cleansing” mean? What are the best ways to practice this?\n",
        "\n",
        "\n",
        "*  Data cleaning is the process of preparing data for analysis by removing or modifying data that is incorrect, incomplete, irrelevant, duplicated, or improperly formatted\n",
        "*  Some steps may be taken, for exmaple\n",
        " change data type, int to string or string to float, format the date\n",
        "\n",
        "*   Delete the dupilcates and unnecessary data\n",
        "*   Deal with nulls, also called missing values, you can delete them or fill in with suitable data.\n",
        "\n",
        "*   Remove the outliers that caused by mistake or the process of getting the data\n",
        "*   You can also do some EDA to spot any trend or to discover problems\n",
        "\n",
        "\n",
        "\n"
      ],
      "metadata": {
        "id": "1QW8lZHC1kBR"
      }
    },
    {
      "cell_type": "markdown",
      "source": [
        "What is the difference between data profiling and data mining?"
      ],
      "metadata": {
        "id": "go9BQ_Rt4BkV"
      }
    },
    {
      "cell_type": "code",
      "source": [
        ""
      ],
      "metadata": {
        "id": "P0gqUSnC1cpD"
      },
      "execution_count": null,
      "outputs": []
    }
  ]
}