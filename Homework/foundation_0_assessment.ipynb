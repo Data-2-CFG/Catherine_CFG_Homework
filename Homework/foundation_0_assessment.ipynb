{
  "nbformat": 4,
  "nbformat_minor": 0,
  "metadata": {
    "colab": {
      "name": "assessment.ipynb",
      "provenance": [],
      "collapsed_sections": []
    },
    "kernelspec": {
      "name": "python3",
      "display_name": "Python 3"
    },
    "language_info": {
      "name": "python"
    }
  },
  "cells": [
    {
      "cell_type": "code",
      "execution_count": null,
      "metadata": {
        "id": "J-t4SyrLvlVw"
      },
      "outputs": [],
      "source": [
        "# #1.\tWhat Is Python? What are the benefits of using python?\n",
        "# 2.\tWhat does ‘string’ method count() do, provide an example\n",
        "# 3.\tWhat do functions ord() and chr() do, provide examples\n",
        "# 4.\tGiven string  ‘2020-11-10_sales.csv’ how can I get ‘2020-11-10_sales’ using slicing ?\n",
        "# 5.\tWhat is the difference between List and Tuple data types in Python?\n",
        "# 6.\tWhat is the difference between List methods append() and extend(), provide examples.\n",
        "# 7.\tWhat does ‘infinite loop’ mean and how to avoid it?\n",
        "# 8.\tWhat does function ‘parameters’ and function ‘arguments’ mean?\n",
        "# 9.\tHow to add a new key, value pair to a dictionary, provide examples.\n",
        "# 10.\tPlace these data types into one of the two categories \n",
        "# (MUTABLE & IMMUTABLE): Bool, Int, List, Tuple, Str, Set, Dict\n"
      ]
    },
    {
      "cell_type": "code",
      "source": [
        "# # Answer: \n",
        "# 1 python is a programming language, it is easy to read and easy to use language and it's free and open-source\n",
        "# 2 count()  returns the number of occurrences of a substring in a given string, example"
      ],
      "metadata": {
        "id": "T9p5Opq5wyFn"
      },
      "execution_count": null,
      "outputs": []
    },
    {
      "cell_type": "code",
      "source": [
        "str = 'I love eating noodles'\n",
        "substr = 'l'\n",
        "print(str.count(substr))"
      ],
      "metadata": {
        "colab": {
          "base_uri": "https://localhost:8080/"
        },
        "id": "YVnbQD7IyjIm",
        "outputId": "6252dc4f-d2a0-4efd-f0e4-91c4e900c0d4"
      },
      "execution_count": null,
      "outputs": [
        {
          "output_type": "stream",
          "name": "stdout",
          "text": [
            "2\n"
          ]
        }
      ]
    },
    {
      "cell_type": "code",
      "source": [
        "# 3 ord() returns the number presenting the unicode code of the given character, chr() returns the character that represents the specified unicode"
      ],
      "metadata": {
        "id": "RJ7kTEl9y3th"
      },
      "execution_count": null,
      "outputs": []
    },
    {
      "cell_type": "code",
      "source": [
        "x = ord('m')\n",
        "print(x)"
      ],
      "metadata": {
        "colab": {
          "base_uri": "https://localhost:8080/"
        },
        "id": "5Btl2WajzXQF",
        "outputId": "245eb7f9-7413-42c3-d36b-d832469bae63"
      },
      "execution_count": null,
      "outputs": [
        {
          "output_type": "stream",
          "name": "stdout",
          "text": [
            "109\n"
          ]
        }
      ]
    },
    {
      "cell_type": "code",
      "source": [
        "y = chr(109)\n",
        "print(y)"
      ],
      "metadata": {
        "colab": {
          "base_uri": "https://localhost:8080/"
        },
        "id": "oVqGRuAezun0",
        "outputId": "f237c59b-da33-4c8d-8896-005619be2093"
      },
      "execution_count": null,
      "outputs": [
        {
          "output_type": "stream",
          "name": "stdout",
          "text": [
            "m\n"
          ]
        }
      ]
    },
    {
      "cell_type": "code",
      "source": [
        "# 4 slicing\n",
        "str = '2020-11-10_sales.csv'\n",
        "print(str[:-4])"
      ],
      "metadata": {
        "colab": {
          "base_uri": "https://localhost:8080/"
        },
        "id": "rTLxxEOCz4Ib",
        "outputId": "a8fd154f-e526-489d-8dd1-adbfb2b73844"
      },
      "execution_count": null,
      "outputs": [
        {
          "output_type": "stream",
          "name": "stdout",
          "text": [
            "2020-11-10_sales\n"
          ]
        }
      ]
    },
    {
      "cell_type": "code",
      "source": [
        "# 5 list list is mutable, tuple is immutable, tuple work faster than list, tuple consume less memory than python\n",
        "# 6 append(), will add the elements to the end of a list as a new list, but extend() will interate its own elements and add them to the list one by one"
      ],
      "metadata": {
        "id": "3ZDQD11H0XE-"
      },
      "execution_count": null,
      "outputs": []
    },
    {
      "cell_type": "code",
      "source": [
        "a_list = [1, 2, 3, 4]\n",
        "new_list = [5, 6, 7]\n",
        "a_list.append(new_list)\n",
        "print(a_list)\n",
        "\n",
        "\n",
        "# a_list = [1, 2, 3, 4]\n",
        "# new_list = [5, 6, 7]\n",
        "# a_list.extend(new_list)\n",
        "# print(a_list)"
      ],
      "metadata": {
        "colab": {
          "base_uri": "https://localhost:8080/"
        },
        "id": "xPsyl31o1vMR",
        "outputId": "4d8f083d-9f77-4341-b0b2-81c9f1436d26"
      },
      "execution_count": null,
      "outputs": [
        {
          "output_type": "stream",
          "name": "stdout",
          "text": [
            "[1, 2, 3, 4, [5, 6, 7]]\n"
          ]
        }
      ]
    },
    {
      "cell_type": "code",
      "source": [
        "# 7\tWhat does ‘infinite loop’ mean and how to avoid it?\n",
        "# infinite loop is an endless loop, the program just loops all the time unless there is external intervention occurs. \n",
        "# how to avoid: make sure your loop will actually end under certain conditions, check you have at least one statement within the loop that changes the value of the comparison variable."
      ],
      "metadata": {
        "id": "S1EDSRPg2vHM"
      },
      "execution_count": null,
      "outputs": []
    },
    {
      "cell_type": "code",
      "source": [
        "# 8  What does function ‘parameters’ and function ‘arguments’ mean?\n",
        "# parameters are the names listed in the function, arguments are the values you actually pass in the function"
      ],
      "metadata": {
        "id": "8h5uiMgu2vKF"
      },
      "execution_count": null,
      "outputs": []
    },
    {
      "cell_type": "code",
      "source": [
        "\t# 9 How to add a new key, value pair to a dictionary, provide examples.\n",
        "  # Dict[new_key] = value_want_to_add\n",
        "a_dic = {'name': 'cath', 'age': 26}\n",
        "a_dic['location'] = 'Leeds'\n",
        "print(a_dic)"
      ],
      "metadata": {
        "colab": {
          "base_uri": "https://localhost:8080/"
        },
        "id": "tp-_NIXV2vMc",
        "outputId": "beea22d9-48e0-4b0d-ae51-49680e6d421a"
      },
      "execution_count": null,
      "outputs": [
        {
          "output_type": "stream",
          "name": "stdout",
          "text": [
            "{'name': 'cath', 'age': 26, 'location': 'Leeds'}\n"
          ]
        }
      ]
    },
    {
      "cell_type": "code",
      "source": [
        "# 10.\tPlace these data types into one of the two categories \n",
        "# mutable : List, Dict, set\n",
        "# immutable: Tuple, Str, int, bool"
      ],
      "metadata": {
        "id": "COrXauiV2vPM"
      },
      "execution_count": null,
      "outputs": []
    },
    {
      "cell_type": "code",
      "source": [
        "# 2.\tIf you would need to count all of the capital letters in a file. How would you do it?  "
      ],
      "metadata": {
        "id": "Nn2hNR2d2vRY"
      },
      "execution_count": null,
      "outputs": []
    },
    {
      "cell_type": "code",
      "source": [
        "with open('my_file.txt') as fh:\n",
        "  text = fh.read()\n",
        "  counter = 0\n",
        "  for letter in text:\n",
        "    if letter.isupper():\n",
        "      counter += 1\n",
        "  print(counter)"
      ],
      "metadata": {
        "colab": {
          "base_uri": "https://localhost:8080/",
          "height": 245
        },
        "id": "gf9PDace2vUc",
        "outputId": "2de6a823-79d2-4ee4-f334-d158e8c01fdb"
      },
      "execution_count": null,
      "outputs": [
        {
          "output_type": "error",
          "ename": "FileNotFoundError",
          "evalue": "ignored",
          "traceback": [
            "\u001b[0;31m---------------------------------------------------------------------------\u001b[0m",
            "\u001b[0;31mFileNotFoundError\u001b[0m                         Traceback (most recent call last)",
            "\u001b[0;32m<ipython-input-16-65acc8cc3b78>\u001b[0m in \u001b[0;36m<module>\u001b[0;34m()\u001b[0m\n\u001b[0;32m----> 1\u001b[0;31m \u001b[0;32mwith\u001b[0m \u001b[0mopen\u001b[0m\u001b[0;34m(\u001b[0m\u001b[0;34m'my_file.txt'\u001b[0m\u001b[0;34m)\u001b[0m \u001b[0;32mas\u001b[0m \u001b[0mfh\u001b[0m\u001b[0;34m:\u001b[0m\u001b[0;34m\u001b[0m\u001b[0;34m\u001b[0m\u001b[0m\n\u001b[0m\u001b[1;32m      2\u001b[0m   \u001b[0mtext\u001b[0m \u001b[0;34m=\u001b[0m \u001b[0mfh\u001b[0m\u001b[0;34m.\u001b[0m\u001b[0mread\u001b[0m\u001b[0;34m(\u001b[0m\u001b[0;34m)\u001b[0m\u001b[0;34m\u001b[0m\u001b[0;34m\u001b[0m\u001b[0m\n\u001b[1;32m      3\u001b[0m   \u001b[0mcounter\u001b[0m \u001b[0;34m=\u001b[0m \u001b[0;36m0\u001b[0m\u001b[0;34m\u001b[0m\u001b[0;34m\u001b[0m\u001b[0m\n\u001b[1;32m      4\u001b[0m   \u001b[0;32mfor\u001b[0m \u001b[0mletter\u001b[0m \u001b[0;32min\u001b[0m \u001b[0mtext\u001b[0m\u001b[0;34m:\u001b[0m\u001b[0;34m\u001b[0m\u001b[0;34m\u001b[0m\u001b[0m\n\u001b[1;32m      5\u001b[0m     \u001b[0;32mif\u001b[0m \u001b[0mletter\u001b[0m\u001b[0;34m.\u001b[0m\u001b[0misupper\u001b[0m\u001b[0;34m(\u001b[0m\u001b[0;34m)\u001b[0m\u001b[0;34m:\u001b[0m\u001b[0;34m\u001b[0m\u001b[0;34m\u001b[0m\u001b[0m\n",
            "\u001b[0;31mFileNotFoundError\u001b[0m: [Errno 2] No such file or directory: 'my_file.txt'"
          ]
        }
      ]
    },
    {
      "cell_type": "code",
      "source": [
        "# 3.\tGiven any string, reverse it, so that it reads backwards, for example:  if the string is “Apple”, you get “'elppA”. \n",
        "# You can do this in any way you want. \n",
        "str = 'Apple'\n",
        "str = str[::-1]\n",
        "print(str)"
      ],
      "metadata": {
        "colab": {
          "base_uri": "https://localhost:8080/"
        },
        "id": "-Kyr-j1p7_2r",
        "outputId": "abee7461-2ee8-44cb-d0a7-d6332135436e"
      },
      "execution_count": null,
      "outputs": [
        {
          "output_type": "stream",
          "name": "stdout",
          "text": [
            "elppA\n"
          ]
        }
      ]
    },
    {
      "cell_type": "code",
      "source": [
        "# 4.\tWrite a function to find the longest word in the list of strings. Given [‘cat’, ‘horse’, ‘elephant’, ‘dog’] your function would return ‘elephant’\n",
        "animals = ['cat', 'horse', 'elephant', 'dog']\n",
        "\n",
        "def longest_str(animals):\n",
        "  longest = 0\n",
        "  longest_animal = ''\n",
        "  for animal in animals:\n",
        "    while len(animal) > longest:\n",
        "      longest += 1\n",
        "      longest_animal = animal\n",
        "  return longest_animal\n",
        "\n",
        "print(longest_str(animals))"
      ],
      "metadata": {
        "colab": {
          "base_uri": "https://localhost:8080/"
        },
        "id": "HcUvGCwS7_5P",
        "outputId": "5d594a6b-c50a-4145-a083-63e6c39f096a"
      },
      "execution_count": null,
      "outputs": [
        {
          "output_type": "stream",
          "name": "stdout",
          "text": [
            "elephant\n"
          ]
        }
      ]
    },
    {
      "cell_type": "code",
      "source": [
        "# 5.\tWrite a simple calculator which can perform basic arithmetic operations like addition, subtraction, multiplication or division depending upon the user input.\n",
        "# Approach :\n",
        "# ●\tUser chooses the desired operation. Options 1, 2, 3 and 4 are valid.\n",
        "# ●\tTwo numbers are taken and an if…elif…else branching is used to execute a particular section.\n",
        "# ●\tUsing functions add(), subtract(), multiply() and divide() evaluate respective operations.\n",
        "# See starter code below\n",
        "\n",
        "# SIMPLE CALCULATOR\n",
        "\n",
        "\n",
        "\n",
        "print(\"Please select operation -\\n \"\n",
        "\n",
        "  \t\"1. Add\\n \"\n",
        "\n",
        "  \t\"2. Subtract\\n\"\n",
        "\n",
        "  \t\"3. Multiply\\n\"\n",
        "\n",
        "  \t\"4. Divide\\n\")\n",
        "\n",
        "\n",
        "# Take input from the user \n",
        "\n",
        "select = int(input(\"Select operations form 1, 2, 3, 4 :\"))\n",
        "\n",
        "number_1 = int(input(\"Enter first number: \"))\n",
        "\n",
        "number_2 = int(input(\"Enter second number: \"))\n",
        "\n",
        "\n",
        "### YOUR CODE GOES HERE ###\n",
        "\n",
        "# Function to add two numbers \n",
        "\n",
        "def add(num_1, num_2):\n",
        "  return num_1 + num_2\n",
        "\n",
        "def substract(num_1, num_2):\n",
        "  return num_1 - num_2\n",
        "\n",
        "def mutiply(num_1, num_2):\n",
        "  return num_1 * num_2\n",
        "\n",
        "def divide(num_1, num_2):\n",
        "  return num_1 / num_2\n",
        "\n",
        "\n",
        "def calculator(select, number_1, number_2):\n",
        "  if select == 1:\n",
        "      return add(number_1, number_2)\n",
        "  elif select == 2:\n",
        "    return substract(number_1, number_2)\n",
        "  elif select == 3:\n",
        "    return mutiply(number_1, number_2)\n",
        "  else:\n",
        "    return divide(number_1, number_2)\n",
        "# Function to subtract two numbers \n",
        "# Function to multiply two numbers\n",
        "# Function to divide two numbers\n",
        "# Calculator logic\n",
        "print(calculator(select, number_1, number_2))\n"
      ],
      "metadata": {
        "colab": {
          "base_uri": "https://localhost:8080/"
        },
        "id": "D6tyuhOZ7_77",
        "outputId": "26d4b8aa-b603-46df-d8c6-6203ba516c4e"
      },
      "execution_count": null,
      "outputs": [
        {
          "output_type": "stream",
          "name": "stdout",
          "text": [
            "Please select operation -\n",
            " 1. Add\n",
            " 2. Subtract\n",
            "3. Multiply\n",
            "4. Divide\n",
            "\n",
            "Select operations form 1, 2, 3, 4 :4\n",
            "Enter first number: 3\n",
            "Enter second number: 2\n",
            "1.5\n"
          ]
        }
      ]
    },
    {
      "cell_type": "code",
      "source": [
        "# 1.\tWhat is MySQL?\n",
        "# 2.\tDifference between CHAR and VARCHAR? \n",
        "# 3.\tWhat do you mean by % and _ in the LIKE statement?\n",
        "# 4.\tWhat is the difference between WHERE and HAVING clause?\n",
        "# 5.\tWhat does CHECK constraint do, give an example?\n",
        "# 6.\tName ANY 3 types of JOINs with simple examples (you can draw circle diagrams or explain?\n",
        "# 7.\tWhat are COMMIT and ROLLBACK in transaction?\n",
        "# 8.\tWhat is the difference between these aggregate functions: COUNT() and SUM()?\n",
        "# 9.\tWhat do you mean by Stored Procedures? How do we use it?\n",
        "# 10.\tWhat is the difference between clustered and non-clustered indexes?\n"
      ],
      "metadata": {
        "id": "KKe5-1ry7_-f"
      },
      "execution_count": null,
      "outputs": []
    },
    {
      "cell_type": "code",
      "source": [
        "# 1. What is MySQL?\n",
        "#   MySAL is an relational database management system, which allows you talk to your database. My is co-founder's name, SQL stands for structured query language\n",
        "# 2.\tDifference between CHAR and VARCHAR?\n",
        "#   CHAR(10) is a fixed-length string of length 10,so length is always the same, while VARCHAR(10) is a variable-length string with a maximum length of 10. This means the actual length will depend upon the data.\n",
        "# 3.\tWhat do you mean by % and _ in the LIKE statement?\n",
        " #  % is a wildcard, it matches any elements, _ is also a wildcard, it looks for a presence of (any) one single character.\n",
        "# 4.\tWhat is the difference between WHERE and HAVING clause?\n",
        "   # both of them are filters, but you can only use having after group by, but you can't use WHERE after group by\n",
        "# 5.  What does CHECK constraint do, give an example?\n",
        "#  CHECK specifies a requirement that must be met by each row in a database table. The constraint must be a predicate. It can refer to a single column, or multiple columns of the table.\n",
        "# example:\n",
        "#   create table students (\n",
        "#       student_id int not null\n",
        "#       age int\n",
        "#       name varchar(50)\n",
        "#       check(age > 20)\n",
        "#   )"
      ],
      "metadata": {
        "id": "HE9gDbEf8ABY"
      },
      "execution_count": null,
      "outputs": []
    },
    {
      "cell_type": "code",
      "source": [
        "# 6  Name ANY 3 types of JOINs with simple examples (you can draw circle diagrams or explain?\n",
        "# left join : Returns all records from the left table, and the matched records from the right table\n",
        "# inner join:  Returns records that have matching values in both tables\n",
        "# outer join : Returns all records when there is a match in either left or right table\n",
        "\n",
        "\n",
        "# 7.\tWhat are COMMIT and ROLLBACK in transaction?\n",
        "# A COMMIT statement is used to save the changes on the current transaction is permanent.\n",
        "# A Rollback statement is used to undo all the changes made on the current transaction. Once the current transaction is completely executed using the COMMIT command, it can't undo its previous state.\n",
        "\n",
        "\n",
        "# 8.\tWhat is the difference between these aggregate functions: COUNT() and SUM()?\n",
        "\n",
        "# Count() counts the number of entrys for certain columns\n",
        "# SUM() adding up all the elements for certain columns\n",
        "\n",
        "# 9.\tWhat do you mean by Stored Procedures? How do we use it?\n",
        "# A stored procedure is a group of SQL statements that has been created and stored in the database.\n",
        "# A stored procedure can be used to Insert , delete or update a SQL statement\n",
        "\n",
        "\n",
        "# 10.\tWhat is the difference between clustered and non-clustered indexes?\n",
        "# Clustered index is primary key, there can be only one clustered index per table, because the data rows themselves can be stored in only one order\n",
        "# Non-clustered index can be multiple columns, many non-clustered indexes can exist in the table.\n"
      ],
      "metadata": {
        "cellView": "code",
        "id": "Ve5OORF2ERfu"
      },
      "execution_count": null,
      "outputs": []
    },
    {
      "cell_type": "code",
      "source": [
        "# 7.\tGiven the following table called ELECTIONS, answer questions below:\n",
        "# A)      Write a query to show total votes by each candidate\n",
        "        select sum(*), candidate from elections\n",
        "        group by candidate;\n",
        "# B)      Write a query to show total votes by each candidate, who scored more than 50 votes in total\n",
        "      select sum(*), candidate from elections\n",
        "      group by candidate\n",
        "      having sum(*) >= 50\n",
        "# C)      We were told that this record was added by mistake, write a query to get rid of this record only in the table \n",
        "    delete from elections\n",
        "    where recordid = 13\n",
        "# |  13  |  Mr Grumpy  |  9  |  Pink Area  | \n",
        "# D)      Let’s imagine that we have millions of records in this table and its performance is very slow. It takes ages for each query to run. What can we do to improve table performance? For example, when searching for certain records etc. \n",
        "    ### create new indexes for example : mutiple_index"
      ],
      "metadata": {
        "id": "IoN53e6kJcXs"
      },
      "execution_count": null,
      "outputs": []
    },
    {
      "cell_type": "code",
      "source": [
        "# 8.\tGiven two SQL tables below: \n",
        "# ●\t the first one is called employees and it contains the employee names, the unique employee ids and the department names of a company; \n",
        "# ●\tthe second one is named salaries. It holds the same employee names and the same employee ids – and the salaries for each employee\n",
        "# Select  every department where \n",
        "# the avg salary per employee is lower than £500!\n",
        "\n",
        "\n",
        " select department_name, salary from employees em\n",
        " join salaries sl\n",
        " on em.employee_id = sl.employee_id\n",
        " where avg(salary <= 500);"
      ],
      "metadata": {
        "id": "_HXGcFqJKvSp"
      },
      "execution_count": null,
      "outputs": []
    },
    {
      "cell_type": "code",
      "source": [
        "# 9.\tWrite syntax to create a new table called shopping, which would look like this: \n",
        "create table shopping(\n",
        "    number,item, price\n",
        ")"
      ],
      "metadata": {
        "id": "hzgqgG7fLRSy"
      },
      "execution_count": null,
      "outputs": []
    },
    {
      "cell_type": "code",
      "source": [
        "\n",
        "# 10.\tWrite syntax to populate table ‘shopping’. You need to add at least 2 rows with ANY items. \n",
        "insert into  shopping(\n",
        "    number,item, price)\n",
        "values()\n",
        " (1, 'pen', 10)\n",
        " (2,'ruler', 12)\n",
        ")"
      ],
      "metadata": {
        "id": "7mQBAO43Lggq"
      },
      "execution_count": null,
      "outputs": []
    }
  ]
}